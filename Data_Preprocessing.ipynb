{
 "cells": [
  {
   "cell_type": "markdown",
   "id": "8de703be",
   "metadata": {},
   "source": [
    "# Data Preprocessing"
   ]
  },
  {
   "cell_type": "markdown",
   "id": "84340444",
   "metadata": {},
   "source": [
    "## Importing the libraries"
   ]
  },
  {
   "cell_type": "code",
   "execution_count": 1,
   "id": "40625ca8",
   "metadata": {
    "ExecuteTime": {
     "end_time": "2023-06-15T03:22:22.222461Z",
     "start_time": "2023-06-15T03:22:07.296077Z"
    }
   },
   "outputs": [],
   "source": [
    "import pandas as pd\n",
    "import numpy as np\n",
    "import matplotlib.pyplot as plt"
   ]
  },
  {
   "cell_type": "markdown",
   "id": "2203f36b",
   "metadata": {},
   "source": [
    "## Importing the dataset"
   ]
  },
  {
   "cell_type": "code",
   "execution_count": 5,
   "id": "6c5a852c",
   "metadata": {
    "ExecuteTime": {
     "end_time": "2023-06-15T03:37:34.443858Z",
     "start_time": "2023-06-15T03:30:10.893045Z"
    }
   },
   "outputs": [],
   "source": [
    "df=pd.read_csv('../Data/NSDUH_2015-2019.csv', low_memory=False)"
   ]
  },
  {
   "cell_type": "code",
   "execution_count": 6,
   "id": "c28a2ec7",
   "metadata": {
    "ExecuteTime": {
     "end_time": "2023-06-15T03:37:34.571175Z",
     "start_time": "2023-06-15T03:37:34.525518Z"
    }
   },
   "outputs": [
    {
     "data": {
      "text/plain": [
       "(282768, 2812)"
      ]
     },
     "execution_count": 6,
     "metadata": {},
     "output_type": "execute_result"
    }
   ],
   "source": [
    "df.shape"
   ]
  },
  {
   "cell_type": "code",
   "execution_count": 7,
   "id": "16820438",
   "metadata": {
    "ExecuteTime": {
     "end_time": "2023-06-15T03:37:34.611886Z",
     "start_time": "2023-06-15T03:37:34.571175Z"
    }
   },
   "outputs": [
    {
     "data": {
      "text/plain": [
       "Index(['cigever', 'cigofrsm', 'cigwilyr', 'cigtry', 'cigyfu', 'cigmfu',\n",
       "       'cigrec', 'cig30use', 'cg30est', 'cig30av',\n",
       "       ...\n",
       "       'casuprob2', 'rcvysubprb', 'camhprob2', 'rcvymhprb', 'almedyr2',\n",
       "       'opmedyr2', 'alopmedyr', 'kratflg', 'kratyr', 'kratmon'],\n",
       "      dtype='object', length=2812)"
      ]
     },
     "execution_count": 7,
     "metadata": {},
     "output_type": "execute_result"
    }
   ],
   "source": [
    "df.columns"
   ]
  },
  {
   "cell_type": "code",
   "execution_count": 9,
   "id": "54387926",
   "metadata": {
    "ExecuteTime": {
     "end_time": "2023-06-15T03:50:37.066487Z",
     "start_time": "2023-06-15T03:50:37.056419Z"
    }
   },
   "outputs": [
    {
     "data": {
      "text/plain": [
       "2812"
      ]
     },
     "execution_count": 9,
     "metadata": {},
     "output_type": "execute_result"
    }
   ],
   "source": [
    "len(df.columns)"
   ]
  }
 ],
 "metadata": {
  "kernelspec": {
   "display_name": "Python 3 (ipykernel)",
   "language": "python",
   "name": "python3"
  },
  "language_info": {
   "codemirror_mode": {
    "name": "ipython",
    "version": 3
   },
   "file_extension": ".py",
   "mimetype": "text/x-python",
   "name": "python",
   "nbconvert_exporter": "python",
   "pygments_lexer": "ipython3",
   "version": "3.9.7"
  }
 },
 "nbformat": 4,
 "nbformat_minor": 5
}
